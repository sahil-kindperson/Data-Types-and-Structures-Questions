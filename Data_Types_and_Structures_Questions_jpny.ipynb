{
  "nbformat": 4,
  "nbformat_minor": 0,
  "metadata": {
    "colab": {
      "provenance": []
    },
    "kernelspec": {
      "name": "python3",
      "display_name": "Python 3"
    },
    "language_info": {
      "name": "python"
    }
  },
  "cells": [
    {
      "cell_type": "code",
      "execution_count": null,
      "metadata": {
        "id": "8DasI1lfpbJD"
      },
      "outputs": [],
      "source": [
        "\n",
        "      ###Theoritical quetions###\n"
      ]
    },
    {
      "cell_type": "code",
      "source": [
        "#(1) What are data structures, and why are they important?\n",
        "#Ans-Data structures are ways of organizing and storing data in a computer so that it can be accessed and manipulated efficiently."
      ],
      "metadata": {
        "id": "LDqkg8DMpj-1"
      },
      "execution_count": null,
      "outputs": []
    },
    {
      "cell_type": "code",
      "source": [
        "#(2) Explain the difference between mutable and immutable data types with examples.\n",
        "#Ans- mutable data type:A mutable data type is one whose value can be changed after the object is created.\n",
        "#for example:list, dictionery, sets\n",
        "#my_list = [1, 2, 3]\n",
        "my_list[0] = 10   # Change an element\n",
        "my_list.append(4)  # Add an element\n",
        "my_list.remove(2)  # Remove an element\n",
        "print(my_list)  # Output: [10, 3, 4]\n",
        "\n",
        "\n",
        "#immutable data type: An immutable data type is one whose value cannot be changed after the object is created.\n",
        "#for example:Strings, tupples\n",
        "my_tuple = (1, 2, 3)\n",
        "my_tuple[0] = 10  # This will raise an error!\n",
        "print(my_tuple)   # Output: (1, 2, 3)\n",
        "\n"
      ],
      "metadata": {
        "id": "LA8iWf0cqBuo"
      },
      "execution_count": null,
      "outputs": []
    },
    {
      "cell_type": "code",
      "source": [
        "#(3) What are the main differences between lists and tuples in Python?\n",
        "#Ans- In Python, both lists and tuples are used to store collections of items, but they have several key differences in terms of mutability.\n",
        "# Mutability\n",
        "\n",
        "List: Lists are mutable, meaning you can modify their contents after creation (add, remove, or change elements).\n",
        "\n",
        "Tuple: Tuples are immutable, meaning once they are created, their contents cannot be changed. You cannot add, remove, or modify elements in a tuple."
      ],
      "metadata": {
        "id": "P8YMV1QArtO5"
      },
      "execution_count": null,
      "outputs": []
    },
    {
      "cell_type": "code",
      "source": [
        "#(4) Describe how dictionaries store data?\n",
        "#Ans-Dictionaries in Python store data using a hash table or hash map structure. This allows them to provide efficient lookups, insertions, and deletions based on keys."
      ],
      "metadata": {
        "id": "xPrNAbkftqLW"
      },
      "execution_count": null,
      "outputs": []
    },
    {
      "cell_type": "code",
      "source": [
        "#(5) Why might you use a set instead of a list in Python?\n",
        "#Ans- Using a set instead of a list in Python can be beneficial in certain scenarios. Here are the main reasons why you might choose a set over a list:\n",
        "\n",
        "1.Uniqueness of Elements\n",
        "2.no ordering\n",
        "3.faster removal of items"
      ],
      "metadata": {
        "id": "Fd_dTe3RuGTH"
      },
      "execution_count": null,
      "outputs": []
    },
    {
      "cell_type": "code",
      "source": [
        "#(6) What is a string in Python, and how is it different from a list?\n",
        "#Ans- A string in Python is a sequence of characters enclosed in single quotes ('), double quotes (\"), or triple quotes (''' or \"\"\") for multi-line strings. Strings are used to store text-based data such as names, sentences, or any sequence of characters."
      ],
      "metadata": {
        "id": "-nLgLp-DZxYo"
      },
      "execution_count": null,
      "outputs": []
    },
    {
      "cell_type": "code",
      "source": [
        "#(7) How do tuples ensure data integrity in Python?\n",
        "#Ans- In Python, tuples ensure data integrity through their immutability. This means that once a tuple is created, its contents cannot be changed, added to, or removed. This characteristic of immutability helps to preserve the data within the tuple and prevent accidental or unintended modifications, thus ensuring data integrity."
      ],
      "metadata": {
        "id": "VlUuFVAJab-e"
      },
      "execution_count": null,
      "outputs": []
    },
    {
      "cell_type": "code",
      "source": [
        "#(8) What is a hash table, and how does it relate to dictionaries in Python?\n",
        "#Ans- A hash table is a data structure that stores key-value pairs and allows for efficient retrieval of values based on their associated keys. It works by using a hash function to compute an index (also known as a hash) for each key. This index points to the location where the value is stored in an array or list. Hash tables are designed for fast lookup, insertion, and deletion operations, with an average time complexity of O(1) for these operations."
      ],
      "metadata": {
        "id": "NGgb6w3mbSkX"
      },
      "execution_count": null,
      "outputs": []
    },
    {
      "cell_type": "code",
      "source": [
        "#(9) Can lists contain different data types in Python?\n",
        "#Ans- Yes, lists in Python can contain different data types. Unlike some other programming languages, Python lists are heterogeneous data structures, meaning they can store items of various types, such as integers, strings, floats, booleans, other lists, objects, and even custom types."
      ],
      "metadata": {
        "id": "hVnKi0ubbpiq"
      },
      "execution_count": null,
      "outputs": []
    },
    {
      "cell_type": "code",
      "source": [
        "#(10) Explain why strings are immutable in Python?\n",
        "#Ans- In Python, strings are immutable, meaning that once a string is created, its contents cannot be changed. There are several reasons for this design choice, which impact performance, consistency, and overall behavior of the language."
      ],
      "metadata": {
        "id": "wNeXYcHfcEOE"
      },
      "execution_count": null,
      "outputs": []
    },
    {
      "cell_type": "code",
      "source": [
        "#(11) What advantages do dictionaries offer over lists for certain tasks?\n",
        "#Ans- Dictionaries in Python offer several distinct advantages over lists for certain tasks, particularly when you need to efficiently store and retrieve data using unique keys. Below are the key advantages that dictionaries have over lists, and the scenarios where they are more suitable:\n",
        "1.efficient lookups by key.\n",
        "2.key value pair storage.\n",
        "3.faster updates and modifications.\n",
        "4.Use in Complex Data Structures"
      ],
      "metadata": {
        "id": "EgvHyinSciK0"
      },
      "execution_count": null,
      "outputs": []
    },
    {
      "cell_type": "code",
      "source": [
        "#(12) Describe a scenario where using a tuple would be preferable over a list.\n",
        "#Ans- Tuples are preferable over lists in situations where immutability, performance, and data integrity are important. Here’s a scenario where using a tuple would be more appropriate than a list:\n",
        "\n",
        "\n",
        "# Using a tuple to store coordinates\n",
        "player_position = (100, 200)  # (x, y) coordinates\n",
        "print(player_position)\n",
        "\n",
        "# Trying to modify the tuple (this would raise an error)\n",
        "# player_position[0] = 150  # TypeError: 'tuple' object does not support item assignment\n",
        "\n",
        "# Instead, if you need to change the position, you would create a new tuple:\n",
        "player_position = (150, 200)\n",
        "print(player_position)  # Output: (150, 200)\n"
      ],
      "metadata": {
        "id": "yDr95cjcdhj2"
      },
      "execution_count": null,
      "outputs": []
    },
    {
      "cell_type": "code",
      "source": [
        "#(13) How do sets handle duplicate values in Python?\n",
        "#Ans- In Python, sets are unordered collections that do not allow duplicate values. This means that if you attempt to add a duplicate value to a set, it will automatically be ignored. Sets are designed to store only unique elements and will only retain one occurrence of each item."
      ],
      "metadata": {
        "id": "hIijI1DIeKet"
      },
      "execution_count": null,
      "outputs": []
    },
    {
      "cell_type": "code",
      "source": [
        "#(14) How does the “in” keyword work differently for lists and dictionaries?\n",
        "#Ans- The in keyword in Python is used to check for membership (i.e., whether a certain element exists) in a data structure, but its behavior differs between lists and dictionaries due to their distinct underlying structures."
      ],
      "metadata": {
        "id": "DFMXcggqerJN"
      },
      "execution_count": null,
      "outputs": []
    },
    {
      "cell_type": "code",
      "source": [
        "#(15) Can you modify the elements of a tuple? Explain why or why not.\n",
        "#Ans- No, you cannot modify the elements of a tuple after it has been created. This is because tuples in Python are immutable. Once a tuple is created, its elements are fixed and cannot be changed, added, or removed."
      ],
      "metadata": {
        "id": "2EDxchhkfAUU"
      },
      "execution_count": null,
      "outputs": []
    },
    {
      "cell_type": "code",
      "source": [
        "#(16) What is a nested dictionary, and give an example of its use case?\n",
        "#Ans- A nested dictionary in Python is a dictionary where the values are themselves dictionaries. In other words, it’s a dictionary that contains one or more dictionaries as its values.\n"
      ],
      "metadata": {
        "id": "Z7TT5Tt6fO5h"
      },
      "execution_count": null,
      "outputs": []
    },
    {
      "cell_type": "code",
      "source": [
        "#(17)  Describe the time complexity of accessing elements in a dictionary?\n",
        "#Ans- The time complexity of accessing elements in a dictionary in Python is O(1), also known as constant time.\n"
      ],
      "metadata": {
        "id": "rjRVMVqgf6pz"
      },
      "execution_count": null,
      "outputs": []
    },
    {
      "cell_type": "code",
      "source": [
        "#(18)  In what situations are lists preferred over dictionaries.\n",
        "#Ans- While dictionaries are highly efficient for key-value lookups, there are certain situations where lists are preferred over dictionaries.\n",
        "1.order matters\n",
        "2.Indexed Access to Elements"
      ],
      "metadata": {
        "id": "YXckpg0YgKou"
      },
      "execution_count": null,
      "outputs": []
    },
    {
      "cell_type": "code",
      "source": [
        "#(19) Why are dictionaries considered unordered, and how does that affect data retrieval?\n",
        "#Ans- Dictionaries in Python are often described as unordered because, prior to Python 3.7, they did not guarantee any specific order for the elements (key-value pairs) that they contained. However, starting from Python 3.7, dictionaries preserve insertion order, meaning they maintain the order in which items are added.\n"
      ],
      "metadata": {
        "id": "uw1tTs3rhGZE"
      },
      "execution_count": null,
      "outputs": []
    },
    {
      "cell_type": "code",
      "source": [
        "#(20)  Explain the difference between a list and a dictionary in terms of data retrieval.\n",
        "#Ans- The primary difference between a list and a dictionary in terms of data retrieval is the way data is stored and accessed:\n",
        "\n",
        "1. Access Mechanism\n",
        "2. time complexity\n",
        "3. order\n",
        "4. data retrivel types"
      ],
      "metadata": {
        "id": "sKv2IAtghfDC"
      },
      "execution_count": null,
      "outputs": []
    },
    {
      "cell_type": "code",
      "source": [
        "\n",
        "\n",
        "     ###Practical Questions###\n",
        "\n"
      ],
      "metadata": {
        "id": "oMkFAvMDiBO1"
      },
      "execution_count": null,
      "outputs": []
    },
    {
      "cell_type": "code",
      "source": [
        "#(1) Write a code to create a string with your name and print itP\n",
        "#Ans- # Creating a string with my name\n",
        "my_name = \"SAHIL\"\n",
        "\n",
        "\n",
        "print(my_name)\n"
      ],
      "metadata": {
        "colab": {
          "base_uri": "https://localhost:8080/"
        },
        "id": "CV9O39TOiaZb",
        "outputId": "74a4ff96-1d6f-4c78-d1df-5c9a085ac9bc"
      },
      "execution_count": 1,
      "outputs": [
        {
          "output_type": "stream",
          "name": "stdout",
          "text": [
            "SAHIL\n"
          ]
        }
      ]
    },
    {
      "cell_type": "code",
      "source": [
        "#(2)Write a code to find the length of the string \"Hello World\".\n",
        "#Ans-\n",
        "my_string = \"Hello World\"\n",
        "length = len(my_string)\n",
        "print(length)"
      ],
      "metadata": {
        "colab": {
          "base_uri": "https://localhost:8080/"
        },
        "id": "KP7s4bH0iq39",
        "outputId": "f140992d-6ac8-4e40-ae24-97ebec70b5ec"
      },
      "execution_count": 2,
      "outputs": [
        {
          "output_type": "stream",
          "name": "stdout",
          "text": [
            "11\n"
          ]
        }
      ]
    },
    {
      "cell_type": "code",
      "source": [
        "#(3)Write a code to slice the first 3 characters from the string \"Python Programming\".\n",
        "#Ans-\n",
        "my_string = \"Python Programming\"\n",
        "sliced_string = my_string[:3]\n",
        "print(sliced_string)"
      ],
      "metadata": {
        "colab": {
          "base_uri": "https://localhost:8080/"
        },
        "id": "vlTy9VqKjkGJ",
        "outputId": "2e5ea306-5561-41c3-e5f2-471e33f7de5c"
      },
      "execution_count": 4,
      "outputs": [
        {
          "output_type": "stream",
          "name": "stdout",
          "text": [
            "Pyt\n"
          ]
        }
      ]
    },
    {
      "cell_type": "code",
      "source": [
        "#(4) Write a code to convert the string \"hello\" to uppercase.\n",
        "#Ans-\n",
        "my_sting = \"hello\"\n",
        "uppercase_string = my_string.upper()\n",
        "print(uppercase_string)"
      ],
      "metadata": {
        "colab": {
          "base_uri": "https://localhost:8080/"
        },
        "id": "uVxsJwXNj2km",
        "outputId": "75ad20df-dcbf-44f6-8749-90536bc97255"
      },
      "execution_count": 5,
      "outputs": [
        {
          "output_type": "stream",
          "name": "stdout",
          "text": [
            "PYTHON PROGRAMMING\n"
          ]
        }
      ]
    },
    {
      "cell_type": "code",
      "source": [
        "#(5) Write a code to replace the word \"apple\" with \"orange\" in the string \"I like apple\".\n",
        "#Ans-\n",
        "my_string = \"i like apple\"\n",
        "replaced_string = my_string.replace(\"apple\",\"orange\")\n",
        "print(replaced_string)"
      ],
      "metadata": {
        "colab": {
          "base_uri": "https://localhost:8080/"
        },
        "id": "eG43VTuSllBD",
        "outputId": "af088562-11b9-4c29-a314-a00031133c69"
      },
      "execution_count": 9,
      "outputs": [
        {
          "output_type": "stream",
          "name": "stdout",
          "text": [
            "i like orange\n"
          ]
        }
      ]
    },
    {
      "cell_type": "code",
      "source": [
        "#(6)  Write a code to create a list with numbers 1 to 5 and print it.\n",
        "#Ans-\n",
        "my_list=[1,2,3,4,5]\n",
        "print(my_list)"
      ],
      "metadata": {
        "colab": {
          "base_uri": "https://localhost:8080/"
        },
        "id": "wEx2GA_hloWu",
        "outputId": "5c76b680-60f1-4c38-9370-0ae471d0a21a"
      },
      "execution_count": 10,
      "outputs": [
        {
          "output_type": "stream",
          "name": "stdout",
          "text": [
            "[1, 2, 3, 4, 5]\n"
          ]
        }
      ]
    },
    {
      "cell_type": "code",
      "source": [
        "#(7) Write a code to append the number 10 to the list [1, 2, 3, 4]\n",
        "#Ans-\n",
        "my_list = [1,2,3,4]\n",
        "my_list.append(10)\n",
        "print(my_list)"
      ],
      "metadata": {
        "colab": {
          "base_uri": "https://localhost:8080/"
        },
        "id": "KFipg-VgmJcn",
        "outputId": "6b60704b-6966-4b10-f156-1b7d88c1da4a"
      },
      "execution_count": 11,
      "outputs": [
        {
          "output_type": "stream",
          "name": "stdout",
          "text": [
            "[1, 2, 3, 4, 10]\n"
          ]
        }
      ]
    },
    {
      "cell_type": "code",
      "source": [
        "#(8) Write a code to remove the number 3 from the list [1, 2, 3, 4, 5].\n",
        "#Ans-\n",
        "my_list = [1,2,3,4,5]\n",
        "my_list.remove(3)\n",
        "print(my_list)"
      ],
      "metadata": {
        "colab": {
          "base_uri": "https://localhost:8080/"
        },
        "id": "fdpOByeUmfc9",
        "outputId": "bc9a8d5b-226d-4aee-d0f9-462b29a4cc3a"
      },
      "execution_count": 12,
      "outputs": [
        {
          "output_type": "stream",
          "name": "stdout",
          "text": [
            "[1, 2, 4, 5]\n"
          ]
        }
      ]
    },
    {
      "cell_type": "code",
      "source": [
        "#(9) Write a code to access the second element in the list ['a', 'b', 'c', 'd'].\n",
        "#Ans-\n",
        "my_list = ['a', 'b', 'c', 'd']\n",
        "second_element = my_list[1]\n",
        "print(second_element)"
      ],
      "metadata": {
        "colab": {
          "base_uri": "https://localhost:8080/"
        },
        "id": "jmQK76jwm0Uj",
        "outputId": "17b88bde-35cb-43cb-c343-8316e3e7a8b2"
      },
      "execution_count": 15,
      "outputs": [
        {
          "output_type": "stream",
          "name": "stdout",
          "text": [
            "b\n"
          ]
        }
      ]
    },
    {
      "cell_type": "code",
      "source": [
        "#(10) Write a code to reverse the list [10, 20, 30, 40, 50].\n",
        "#Ans-\n",
        "my_list = [10, 20, 30, 40, 50]\n",
        "my_list.reverse()\n",
        "print(my_list)"
      ],
      "metadata": {
        "colab": {
          "base_uri": "https://localhost:8080/"
        },
        "id": "Lg2vqKBonXcy",
        "outputId": "743d74c6-842b-45df-f1b3-ff6cca81565a"
      },
      "execution_count": 16,
      "outputs": [
        {
          "output_type": "stream",
          "name": "stdout",
          "text": [
            "[50, 40, 30, 20, 10]\n"
          ]
        }
      ]
    },
    {
      "cell_type": "code",
      "source": [
        "#(11)  Write a code to create a tuple with the elements 100, 200, 300 and print it.\n",
        "#Ans-\n",
        "my_tuple = (100, 200, 300)\n",
        "print(my_tuple)"
      ],
      "metadata": {
        "colab": {
          "base_uri": "https://localhost:8080/"
        },
        "id": "iyV3weJToGar",
        "outputId": "4b06c850-6b9d-46f9-d27d-1e66cda55db0"
      },
      "execution_count": 17,
      "outputs": [
        {
          "output_type": "stream",
          "name": "stdout",
          "text": [
            "(100, 200, 300)\n"
          ]
        }
      ]
    },
    {
      "cell_type": "code",
      "source": [
        "#(12) Write a code to access the second-to-last element of the tuple ('red', 'green', 'blue', 'yellow').\n",
        "#Ans-\n",
        "my_tuple = (\"red\", \"green\", \"blue\", \"yellow\")\n",
        "second_to_last_element = my_tuple[-2]\n",
        "print(second_to_last_element)"
      ],
      "metadata": {
        "colab": {
          "base_uri": "https://localhost:8080/"
        },
        "id": "5TGpc8DloXqv",
        "outputId": "badbef02-9328-46a2-b5ae-8b67880c4504"
      },
      "execution_count": 21,
      "outputs": [
        {
          "output_type": "stream",
          "name": "stdout",
          "text": [
            "blue\n"
          ]
        }
      ]
    },
    {
      "cell_type": "code",
      "source": [
        "#(13) Write a code to find the minimum number in the tuple (10, 20, 5, 15).\n",
        "#Ans-\n",
        "my_tuple = (10, 20, 5, 15)\n",
        "minimum_number = min(my_tuple)\n",
        "print(minimum_number)"
      ],
      "metadata": {
        "colab": {
          "base_uri": "https://localhost:8080/"
        },
        "id": "rsjEWxxqo4wy",
        "outputId": "81436e4f-4f53-4933-ecee-9751ccacde30"
      },
      "execution_count": 23,
      "outputs": [
        {
          "output_type": "stream",
          "name": "stdout",
          "text": [
            "5\n"
          ]
        }
      ]
    },
    {
      "cell_type": "code",
      "source": [
        "#(14) Write a code to find the index of the element \"cat\" in the tuple ('dog', 'cat', 'rabbit').\n",
        "#Ans-\n",
        "my_tuple = ('dog', 'cat', 'rabbit')\n",
        "index = my_tuple.index(\"cat\")\n",
        "print(index)"
      ],
      "metadata": {
        "colab": {
          "base_uri": "https://localhost:8080/"
        },
        "id": "HoXJfRYNq8of",
        "outputId": "7d0bc6b0-31d6-4191-b9aa-1d4d2024df1e"
      },
      "execution_count": 24,
      "outputs": [
        {
          "output_type": "stream",
          "name": "stdout",
          "text": [
            "1\n"
          ]
        }
      ]
    },
    {
      "cell_type": "code",
      "source": [
        "#(15) Write a code to create a tuple containing three different fruits and check if \"kiwi\" is in it.\n",
        "#Ans-\n",
        "my_tuple = (\"apple\", \"banana\", \"cherry\")\n",
        "if \"kiwi\" in my_tuple:\n",
        "    print(\"kiwi is in the tuple\")\n",
        "else:\n",
        "    print(\"kiwi is not in the tuple\")"
      ],
      "metadata": {
        "colab": {
          "base_uri": "https://localhost:8080/"
        },
        "id": "Tc2TB1VOrcPG",
        "outputId": "82b8871d-e83f-4806-c9d8-1c6bd737b5c9"
      },
      "execution_count": 25,
      "outputs": [
        {
          "output_type": "stream",
          "name": "stdout",
          "text": [
            "kiwi is not in the tuple\n"
          ]
        }
      ]
    },
    {
      "cell_type": "code",
      "source": [
        "#(16) Write a code to create a set with the elements 'a', 'b', 'c' and print it.\n",
        "#Ans-\n",
        "my_set = {'a','b','c'}\n",
        "print(my_set)\n"
      ],
      "metadata": {
        "colab": {
          "base_uri": "https://localhost:8080/"
        },
        "id": "feb_1Ep_sJQF",
        "outputId": "c842592d-683f-46d7-a4f1-5d8c80765897"
      },
      "execution_count": 26,
      "outputs": [
        {
          "output_type": "stream",
          "name": "stdout",
          "text": [
            "{'c', 'a', 'b'}\n"
          ]
        }
      ]
    },
    {
      "cell_type": "code",
      "source": [
        "#(17) Write a code to clear all elements from the set {1, 2, 3, 4, 5}.\n",
        "#Ans-\n",
        "my_set = {1, 2, 3, 4, 5}\n",
        "my_set.clear()\n",
        "print(my_set)"
      ],
      "metadata": {
        "colab": {
          "base_uri": "https://localhost:8080/"
        },
        "id": "pfY-UZDsseR-",
        "outputId": "2d26e334-c0a4-4cb3-e527-e6e170611d63"
      },
      "execution_count": 27,
      "outputs": [
        {
          "output_type": "stream",
          "name": "stdout",
          "text": [
            "set()\n"
          ]
        }
      ]
    },
    {
      "cell_type": "code",
      "source": [
        "#(18)  Write a code to remove the element 4 from the set {1, 2, 3, 4}.\n",
        "#Ans-\n",
        "my_set = {1, 2, 3, 4}\n",
        "my_set.remove(4)\n",
        "print(my_set)"
      ],
      "metadata": {
        "colab": {
          "base_uri": "https://localhost:8080/"
        },
        "id": "1ejALJ25tXVI",
        "outputId": "650adb6d-be45-417f-ac3e-181e7ab0acf4"
      },
      "execution_count": 28,
      "outputs": [
        {
          "output_type": "stream",
          "name": "stdout",
          "text": [
            "{1, 2, 3}\n"
          ]
        }
      ]
    },
    {
      "cell_type": "code",
      "source": [
        "#(19) Write a code to find the union of two sets {1, 2, 3} and {3, 4, 5}.\n",
        "#Ans-\n",
        "set1 =  {1, 2, 3}\n",
        "set2 =  {3, 4, 5}\n",
        "union_set = set1.union(set2)\n",
        "print(union_set)"
      ],
      "metadata": {
        "colab": {
          "base_uri": "https://localhost:8080/"
        },
        "id": "yqd2gW49t-GQ",
        "outputId": "6ddff6e5-b3ea-4d6f-a495-fd3eb6f5b5ae"
      },
      "execution_count": 29,
      "outputs": [
        {
          "output_type": "stream",
          "name": "stdout",
          "text": [
            "{1, 2, 3, 4, 5}\n"
          ]
        }
      ]
    },
    {
      "cell_type": "code",
      "source": [
        "#(20) Write a code to find the intersection of two sets {1, 2, 3} and {2, 3, 4}.\n",
        "#Ans-\n",
        "set1 = {1,2,3}\n",
        "set2 = {2,3,4}\n",
        "intersection_set = set1.intersection(set2)\n",
        "print(intersection_set)"
      ],
      "metadata": {
        "colab": {
          "base_uri": "https://localhost:8080/"
        },
        "id": "4Hzy1No1uMcA",
        "outputId": "2de28dd1-c279-4236-975d-da058f72348e"
      },
      "execution_count": 30,
      "outputs": [
        {
          "output_type": "stream",
          "name": "stdout",
          "text": [
            "{2, 3}\n"
          ]
        }
      ]
    },
    {
      "cell_type": "code",
      "source": [
        "#(21)  Write a code to create a dictionary with the keys \"name\", \"age\", and \"city\", and print it.\n",
        "#Ans-\n",
        "my_dict = {\n",
        "    \"name\": \"John\",\n",
        "    \"age\": 30,\n",
        "    \"city\": \"New York\"\n",
        "}\n",
        "\n",
        "print(my_dict)"
      ],
      "metadata": {
        "colab": {
          "base_uri": "https://localhost:8080/"
        },
        "id": "El_OTijzui2m",
        "outputId": "36269bf4-63c1-4b7d-a045-6cb25b607d4b"
      },
      "execution_count": 31,
      "outputs": [
        {
          "output_type": "stream",
          "name": "stdout",
          "text": [
            "{'name': 'John', 'age': 30, 'city': 'New York'}\n"
          ]
        }
      ]
    },
    {
      "cell_type": "code",
      "source": [
        "#(22) Write a code to add a new key-value pair \"country\": \"USA\" to the dictionary {'name': 'John', 'age': 25}.\n",
        "#Ans-\n",
        "my_dict = {'name': 'john', 'age': 25}\n",
        "my_dict[\"country\"] = \"USA\"\n",
        "print(my_dict)"
      ],
      "metadata": {
        "colab": {
          "base_uri": "https://localhost:8080/"
        },
        "id": "ihDFFWWBvJnJ",
        "outputId": "95545468-cc8b-43c2-bf89-53689991d78a"
      },
      "execution_count": 33,
      "outputs": [
        {
          "output_type": "stream",
          "name": "stdout",
          "text": [
            "{'name': 'john', 'age': 25, 'country': 'USA'}\n"
          ]
        }
      ]
    },
    {
      "cell_type": "code",
      "source": [
        "#(23) Write a code to access the value associated with the key \"name\" in the dictionary {'name': 'Alice', 'age': 30}.\n",
        "#Ans-\n",
        "my_dict = {'name': 'Alice', 'age': 30}\n",
        "name_value = my_dict[\"name\"]\n",
        "print(name_value)"
      ],
      "metadata": {
        "colab": {
          "base_uri": "https://localhost:8080/"
        },
        "id": "RzlF9Hgzvobx",
        "outputId": "cf32c666-5d2b-4c8a-c0be-826d37e35f57"
      },
      "execution_count": 35,
      "outputs": [
        {
          "output_type": "stream",
          "name": "stdout",
          "text": [
            "Alice\n"
          ]
        }
      ]
    },
    {
      "cell_type": "code",
      "source": [
        "#(24) Write a code to remove the key \"age\" from the dictionary {'name': 'Bob', 'age': 22, 'city': 'New York'}.\n",
        "#Ans-\n",
        "my_dict = {'name': 'Bob', 'age': 22, 'city': 'New York'}\n",
        "del my_dict[\"age\"]\n",
        "print(my_dict)"
      ],
      "metadata": {
        "colab": {
          "base_uri": "https://localhost:8080/"
        },
        "id": "YAHpB9CDwfKj",
        "outputId": "263e421a-5e5c-4641-9c3d-829f5b23103a"
      },
      "execution_count": 36,
      "outputs": [
        {
          "output_type": "stream",
          "name": "stdout",
          "text": [
            "{'name': 'Bob', 'city': 'New York'}\n"
          ]
        }
      ]
    },
    {
      "cell_type": "code",
      "source": [
        "#(25) Write a code to check if the key \"city\" exists in the dictionary {'name': 'Alice', 'city': 'Paris'}.\n",
        "#Ans-\n",
        "my_dict = {'name':'Alice', 'city': 'Paris'}\n",
        "if \"city\" in my_dict:\n",
        "    print(\"city key exists in the dictionary\")\n",
        "else:\n",
        "    print(\"city key does not exist in the dictionary\")"
      ],
      "metadata": {
        "colab": {
          "base_uri": "https://localhost:8080/"
        },
        "id": "NWNChIXww4pd",
        "outputId": "f89b1bf4-94df-4dc0-bdc9-2be58124afd3"
      },
      "execution_count": 37,
      "outputs": [
        {
          "output_type": "stream",
          "name": "stdout",
          "text": [
            "city key exists in the dictionary\n"
          ]
        }
      ]
    },
    {
      "cell_type": "code",
      "source": [
        "#(26) Write a code to create a list, a tuple, and a dictionary, and print them all.\n",
        "#Ans-\n",
        "my_list = [1, 2, 3, 4, 5]\n",
        "my_tuple = (10, 20, 30, 40, 50)\n",
        "my_dict = {'name': 'John', 'age': 30, 'city': 'New York'}\n",
        "\n",
        "print(\"List:\", my_list)\n",
        "print(\"Tuple:\", my_tuple)\n",
        "print(\"Dictionary:\", my_dict)"
      ],
      "metadata": {
        "colab": {
          "base_uri": "https://localhost:8080/"
        },
        "id": "ntPrJMTvxPYW",
        "outputId": "817b8917-3b76-45bf-f4b3-4da56413bc82"
      },
      "execution_count": 38,
      "outputs": [
        {
          "output_type": "stream",
          "name": "stdout",
          "text": [
            "List: [1, 2, 3, 4, 5]\n",
            "Tuple: (10, 20, 30, 40, 50)\n",
            "Dictionary: {'name': 'John', 'age': 30, 'city': 'New York'}\n"
          ]
        }
      ]
    },
    {
      "cell_type": "code",
      "source": [
        "#(27)  Write a code to create a list of 5 random numbers between 1 and 100, sort it in ascending order, and print the result.(replaced)\n",
        "#Ans-\n",
        "import random\n",
        "\n",
        "random_numbers = [random.randint(1,100) for _ in range(5)]\n",
        "random_numbers.sort()\n",
        "print(random_numbers)\n",
        "#"
      ],
      "metadata": {
        "colab": {
          "base_uri": "https://localhost:8080/"
        },
        "id": "YIHhPylPxwhJ",
        "outputId": "9269fe2c-5100-49b1-e827-2eeb20cee56f"
      },
      "execution_count": 44,
      "outputs": [
        {
          "output_type": "stream",
          "name": "stdout",
          "text": [
            "[17, 32, 40, 53, 95]\n"
          ]
        }
      ]
    },
    {
      "cell_type": "code",
      "source": [
        "#(28) Write a code to create a list with strings and print the element at the third index.\n",
        "#Ans-\n",
        "my_list = [\"apple\", \"banana\", \"cherry\", \"date\", \"elderberry\"]\n",
        "third_element = my_list[2]\n",
        "print(third_element)"
      ],
      "metadata": {
        "colab": {
          "base_uri": "https://localhost:8080/"
        },
        "id": "TZBHFl4JyT-c",
        "outputId": "fbf60b90-6698-477d-ffc8-e7f052078d18"
      },
      "execution_count": 45,
      "outputs": [
        {
          "output_type": "stream",
          "name": "stdout",
          "text": [
            "cherry\n"
          ]
        }
      ]
    },
    {
      "cell_type": "code",
      "source": [
        "#(29) Write a code to combine two dictionaries into one and print the result.\n",
        "#Ans-\n",
        "dict1 = {'a' : 1, 'b' : 2}\n",
        "dict2 = {'c' : 3, 'd' : 4}\n",
        "combined_dict = {**dict1, **dict2}\n",
        "print(combined_dict)"
      ],
      "metadata": {
        "colab": {
          "base_uri": "https://localhost:8080/"
        },
        "id": "twDKzAr-zVWJ",
        "outputId": "581d4a68-3100-4390-da19-204d0ae8927a"
      },
      "execution_count": 47,
      "outputs": [
        {
          "output_type": "stream",
          "name": "stdout",
          "text": [
            "{'a': 1, 'b': 2, 'c': 3, 'd': 4}\n"
          ]
        }
      ]
    },
    {
      "cell_type": "code",
      "source": [
        "#(30) Write a code to convert a list of strings into a set.\n",
        "#Ans-\n",
        "my_list = [\"apple\", \"banana\", \"cherry\", \"date\", \"elderberry\"]\n",
        "my_set = set(my_list)\n",
        "print(my_set)"
      ],
      "metadata": {
        "colab": {
          "base_uri": "https://localhost:8080/"
        },
        "id": "Uj7zgkY6zd1N",
        "outputId": "5ac8f1f0-09ac-4826-873f-33f2ce6300dc"
      },
      "execution_count": 48,
      "outputs": [
        {
          "output_type": "stream",
          "name": "stdout",
          "text": [
            "{'elderberry', 'cherry', 'banana', 'date', 'apple'}\n"
          ]
        }
      ]
    },
    {
      "cell_type": "code",
      "source": [],
      "metadata": {
        "id": "guLYQJ0DztoM"
      },
      "execution_count": null,
      "outputs": []
    }
  ]
}